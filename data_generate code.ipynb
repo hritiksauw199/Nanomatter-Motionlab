{
 "cells": [
  {
   "cell_type": "code",
   "execution_count": 1,
   "metadata": {},
   "outputs": [],
   "source": [
    "import pandas as pd\n",
    "import numpy as np"
   ]
  },
  {
   "cell_type": "code",
   "execution_count": null,
   "metadata": {},
   "outputs": [],
   "source": [
    "setpt =pd.read_csv('setpoint_publish(in).csv')\n",
    "setpt\n",
    "for _, row in setpt.iterrows():\n",
    "        mean, std_dev = row[f\"{dataset_name}_mean\"], row[f\"{dataset_name}_sig\"]\n",
    "\n",
    "        rows.append(generate_normal_data(mean, std_dev))\n",
    "    # Combine all variables into a single DataFrame\n",
    "    datasets[data_name] = pd.DataFrame(np.column_stack(rows), columns=setpt['variable'])\n"
   ]
  },
  {
   "cell_type": "code",
   "execution_count": 28,
   "metadata": {},
   "outputs": [],
   "source": [
    "def generate_normal_data(mean, std_dev, size=5000):\n",
    "    return np.random.normal(loc=mean, scale=std_dev, size=size)"
   ]
  },
  {
   "cell_type": "code",
   "execution_count": null,
   "metadata": {},
   "outputs": [
    {
     "ename": "TypeError",
     "evalue": "must be real number, not str",
     "output_type": "error",
     "traceback": [
      "\u001b[1;31m---------------------------------------------------------------------------\u001b[0m",
      "\u001b[1;31mTypeError\u001b[0m                                 Traceback (most recent call last)",
      "Cell \u001b[1;32mIn[29], line 5\u001b[0m\n\u001b[0;32m      3\u001b[0m rows \u001b[38;5;241m=\u001b[39m []\n\u001b[0;32m      4\u001b[0m \u001b[38;5;28;01mfor\u001b[39;00m var, mean, sig \u001b[38;5;129;01min\u001b[39;00m \u001b[38;5;28mzip\u001b[39m(setpt[\u001b[38;5;124m'\u001b[39m\u001b[38;5;124mvar\u001b[39m\u001b[38;5;124m'\u001b[39m], setpt[\u001b[38;5;124mf\u001b[39m\u001b[38;5;124m'\u001b[39m\u001b[38;5;132;01m{\u001b[39;00mdata_name\u001b[38;5;132;01m}\u001b[39;00m\u001b[38;5;124m_mean\u001b[39m\u001b[38;5;124m'\u001b[39m], setpt[\u001b[38;5;124mf\u001b[39m\u001b[38;5;124m'\u001b[39m\u001b[38;5;132;01m{\u001b[39;00mdata_name\u001b[38;5;132;01m}\u001b[39;00m\u001b[38;5;124m_sig\u001b[39m\u001b[38;5;124m'\u001b[39m]):\n\u001b[1;32m----> 5\u001b[0m     rows\u001b[38;5;241m.\u001b[39mappend(generate_normal_data(mean, std_dev))\n\u001b[0;32m      6\u001b[0m \u001b[38;5;66;03m# Combine all variables into a single DataFrame\u001b[39;00m\n\u001b[0;32m      7\u001b[0m datasets[data_name] \u001b[38;5;241m=\u001b[39m pd\u001b[38;5;241m.\u001b[39mDataFrame(np\u001b[38;5;241m.\u001b[39mcolumn_stack(rows), columns\u001b[38;5;241m=\u001b[39msetpt[\u001b[38;5;124m'\u001b[39m\u001b[38;5;124mvariable\u001b[39m\u001b[38;5;124m'\u001b[39m])\n",
      "Cell \u001b[1;32mIn[28], line 2\u001b[0m, in \u001b[0;36mgenerate_normal_data\u001b[1;34m(mean, std_dev, size)\u001b[0m\n\u001b[0;32m      1\u001b[0m \u001b[38;5;28;01mdef\u001b[39;00m \u001b[38;5;21mgenerate_normal_data\u001b[39m(mean, std_dev, size\u001b[38;5;241m=\u001b[39m\u001b[38;5;241m5000\u001b[39m):\n\u001b[1;32m----> 2\u001b[0m     \u001b[38;5;28;01mreturn\u001b[39;00m np\u001b[38;5;241m.\u001b[39mrandom\u001b[38;5;241m.\u001b[39mnormal(loc\u001b[38;5;241m=\u001b[39mmean, scale\u001b[38;5;241m=\u001b[39mstd_dev, size\u001b[38;5;241m=\u001b[39msize)\n",
      "File \u001b[1;32mnumpy\\\\random\\\\mtrand.pyx:1557\u001b[0m, in \u001b[0;36mnumpy.random.mtrand.RandomState.normal\u001b[1;34m()\u001b[0m\n",
      "File \u001b[1;32m_common.pyx:610\u001b[0m, in \u001b[0;36mnumpy.random._common.cont\u001b[1;34m()\u001b[0m\n",
      "\u001b[1;31mTypeError\u001b[0m: must be real number, not str"
     ]
    }
   ],
   "source": [
    "datasets = []\n",
    "for data_name in [\"opt\", \"drift\", \"excursion\"]:\n",
    "    rows = []\n",
    "    for var, mean, sig in zip(setpt['var'], setpt[f'{data_name}_mean'], setpt[f'{data_name}_sig']):\n",
    "        rows.append(generate_normal_data(mean, sig))\n",
    "    # Combine all variables into a single DataFrame\n",
    "    datasets[data_name] = pd.DataFrame(np.column_stack(rows), columns=setpt['variable'])"
   ]
  },
  {
   "cell_type": "code",
   "execution_count": null,
   "metadata": {},
   "outputs": [],
   "source": []
  },
  {
   "cell_type": "code",
   "execution_count": null,
   "metadata": {},
   "outputs": [],
   "source": []
  },
  {
   "cell_type": "code",
   "execution_count": null,
   "metadata": {},
   "outputs": [],
   "source": []
  }
 ],
 "metadata": {
  "kernelspec": {
   "display_name": "base",
   "language": "python",
   "name": "python3"
  },
  "language_info": {
   "codemirror_mode": {
    "name": "ipython",
    "version": 3
   },
   "file_extension": ".py",
   "mimetype": "text/x-python",
   "name": "python",
   "nbconvert_exporter": "python",
   "pygments_lexer": "ipython3",
   "version": "3.12.4"
  }
 },
 "nbformat": 4,
 "nbformat_minor": 2
}
